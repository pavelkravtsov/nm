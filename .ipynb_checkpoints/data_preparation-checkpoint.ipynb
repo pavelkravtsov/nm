{
 "cells": [
  {
   "cell_type": "code",
   "execution_count": 5,
   "metadata": {
    "collapsed": false
   },
   "outputs": [],
   "source": [
    "from pymystem3 import Mystem\n",
    "import logging\n",
    "import re"
   ]
  },
  {
   "cell_type": "code",
   "execution_count": null,
   "metadata": {
    "collapsed": true
   },
   "outputs": [],
   "source": [
    "logging.basicConfig(level=logging.DEBUG,\n",
    "                    format='%(asctime)s %(message)s',\n",
    "                    handlers=[logging.StreamHandler()])\n",
    "\n",
    "logging.info(\"Loading mystem\")\n",
    "m = Mystem()\n",
    "logging.info(\"Loaded mystem\")"
   ]
  },
  {
   "cell_type": "code",
   "execution_count": null,
   "metadata": {
    "collapsed": true
   },
   "outputs": [],
   "source": [
    "def parse_gr(gr):\n",
    "    options = re.search('\\(([^\\)]*)\\)', gr, re.IGNORECASE)\n",
    "\n",
    "    if options:\n",
    "        title = options.group(1)\n",
    "        for stuff in title.split('|'):\n",
    "            yield gr.replace(\"(\" + title + \")\", stuff)\n",
    "    else:\n",
    "        yield gr"
   ]
  },
  {
   "cell_type": "code",
   "execution_count": null,
   "metadata": {
    "collapsed": true
   },
   "outputs": [],
   "source": [
    "lines = set([])\n",
    "\n",
    "with open(\"data/test.txt\", \"r\") as input_file:\n",
    "    logging.info(\"file opened\")\n",
    "\n",
    "    for line in input_file:\n",
    "        for w in m.analyze(line):\n",
    "\n",
    "            if 'analysis' in w:\n",
    "                for item in w['analysis']:\n",
    "                    for gramm_info in parse_gr(item['gr']):\n",
    "                        lines.add(\"\\t\".join(\n",
    "                            [gramm_info, item['lex'], w['text'].lower()]).encode(\"utf-8\") + \"\\n\")\n",
    "\n",
    "with open(\"data/pairs_with_grammar.tsv\", \"w+\") as f:\n",
    "    for line in lines:\n",
    "        f.write(line)\n",
    "\n",
    "dict = {}\n",
    "\n",
    "for line in open(\"data/pairs_with_grammar.tsv\", \"r+\"):\n",
    "    if line.strip():\n",
    "        desc, normal, form = line.strip().split(\"\\t\")\n",
    "        if desc not in dict:\n",
    "            dict[desc] = []\n",
    "        dict[desc].append((normal, form))\n",
    "\n",
    "logging.info(\"Pairs acquired\")"
   ]
  },
  {
   "cell_type": "code",
   "execution_count": null,
   "metadata": {
    "collapsed": true
   },
   "outputs": [],
   "source": [
    "writer = open(\"data/relations.pairs.tsv\", \"w+\")\n",
    "\n",
    "for desc in dict:\n",
    "    for p0 in dict[desc]:\n",
    "        for p1 in dict[desc]:\n",
    "            if not p0 == p1:\n",
    "                writer.write(\"\\t\".join([p0[0], p0[1], p1[0], p1[1]]) + \"\\n\")\n",
    "\n",
    "writer.close()\n",
    "\n",
    "logging.info(\"Relations pairs acquired\")"
   ]
  }
 ],
 "metadata": {
  "anaconda-cloud": {},
  "kernelspec": {
   "display_name": "Python [with_python_2]",
   "language": "python",
   "name": "Python [with_python_2]"
  },
  "language_info": {
   "codemirror_mode": {
    "name": "ipython",
    "version": 2
   },
   "file_extension": ".py",
   "mimetype": "text/x-python",
   "name": "python",
   "nbconvert_exporter": "python",
   "pygments_lexer": "ipython2",
   "version": "2.7.12"
  }
 },
 "nbformat": 4,
 "nbformat_minor": 0
}
