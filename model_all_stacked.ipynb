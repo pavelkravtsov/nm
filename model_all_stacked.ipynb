{
 "cells": [
  {
   "cell_type": "code",
   "execution_count": 1,
   "metadata": {
    "collapsed": false
   },
   "outputs": [
    {
     "name": "stderr",
     "output_type": "stream",
     "text": [
      "Using Theano backend.\n"
     ]
    }
   ],
   "source": [
    "# coding:utf-8\n",
    "\n",
    "from keras.layers import Input, LSTM\n",
    "from keras.layers.core import RepeatVector\n",
    "from keras.layers.recurrent import SimpleRNN\n",
    "from keras.models import Model\n",
    "from keras.optimizers import Adam"
   ]
  },
  {
   "cell_type": "code",
   "execution_count": 2,
   "metadata": {
    "collapsed": true
   },
   "outputs": [],
   "source": [
    "def construct_model(maxlen, input_dimension, output_dimension, lstm_vector_output_dim):\n",
    "    \"\"\"\n",
    "    Склеены три слова\n",
    "    \"\"\"\n",
    "    input = Input(shape=(maxlen, input_dimension), name='input')\n",
    "\n",
    "    # lstm_encode = LSTM(lstm_vector_output_dim)(input)\n",
    "    lstm_encode = SimpleRNN(lstm_vector_output_dim, activation='relu')(input)\n",
    "\n",
    "    encoded_copied = RepeatVector(n=maxlen)(lstm_encode)\n",
    "\n",
    "    # lstm_decode = LSTM(output_dim=output_dimension, return_sequences=True, activation='softmax')(encoded_copied)\n",
    "    lstm_decode = SimpleRNN(output_dim=output_dimension, return_sequences=True, activation='softmax')(encoded_copied)\n",
    "\n",
    "    encoder = Model(input, lstm_decode)\n",
    "\n",
    "    adam = Adam()\n",
    "    encoder.compile(loss='categorical_crossentropy', optimizer=adam)\n",
    "\n",
    "    return encoder"
   ]
  },
  {
   "cell_type": "code",
   "execution_count": null,
   "metadata": {
    "collapsed": true
   },
   "outputs": [],
   "source": []
  }
 ],
 "metadata": {
  "anaconda-cloud": {},
  "kernelspec": {
   "display_name": "Python [with_python_2]",
   "language": "python",
   "name": "Python [with_python_2]"
  },
  "language_info": {
   "codemirror_mode": {
    "name": "ipython",
    "version": 2
   },
   "file_extension": ".py",
   "mimetype": "text/x-python",
   "name": "python",
   "nbconvert_exporter": "python",
   "pygments_lexer": "ipython2",
   "version": "2.7.12"
  }
 },
 "nbformat": 4,
 "nbformat_minor": 0
}
