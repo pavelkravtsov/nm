{
 "cells": [
  {
   "cell_type": "code",
   "execution_count": 1,
   "metadata": {
    "collapsed": false
   },
   "outputs": [],
   "source": [
    "from pymystem3 import Mystem\n",
    "import logging\n",
    "import math\n",
    "import pandas as pd\n",
    "import re\n",
    "from random import random, sample\n",
    "from __future__ import print_function\n",
    "\n",
    "import codecs\n",
    "from functools import partial\n",
    "open = partial(codecs.open, encoding=\"utf-8\")"
   ]
  },
  {
   "cell_type": "markdown",
   "metadata": {},
   "source": [
    "## Имена файлов"
   ]
  },
  {
   "cell_type": "code",
   "execution_count": 2,
   "metadata": {
    "collapsed": true
   },
   "outputs": [],
   "source": [
    "text_file = \"data/war.txt\"\n",
    "pairs_with_gr_file = \"data/pairs_with_grammar.tsv\"\n",
    "relations_pairs_file = \"data/relations_pairs.tsv\"\n",
    "train_file = \"data/train.csv\"\n",
    "test_file = \"data/test.csv\"\n",
    "disperse_file = \"data/disperse_data.tsv\""
   ]
  },
  {
   "cell_type": "markdown",
   "metadata": {},
   "source": [
    "## Настройка логгера"
   ]
  },
  {
   "cell_type": "code",
   "execution_count": 3,
   "metadata": {
    "collapsed": true
   },
   "outputs": [],
   "source": [
    "logging.basicConfig(filename='preparation_results.log',\n",
    "                    format='[%(asctime)s] [%(levelname)s] %(message)s',\n",
    "                    level=logging.DEBUG)\n",
    "\n",
    "lg = logging.getLogger(\"L\")\n",
    "lg.setLevel(logging.DEBUG)\n",
    "ch = logging.StreamHandler()\n",
    "ch.setLevel(logging.DEBUG)\n",
    "formatter = logging.Formatter(\"%(asctime)s [%(levelname)s] %(message)s\")\n",
    "ch.setFormatter(formatter)\n",
    "lg.addHandler(ch)"
   ]
  },
  {
   "cell_type": "markdown",
   "metadata": {},
   "source": [
    "## Загрузка стеммера"
   ]
  },
  {
   "cell_type": "code",
   "execution_count": 4,
   "metadata": {
    "collapsed": false
   },
   "outputs": [
    {
     "name": "stderr",
     "output_type": "stream",
     "text": [
      "2016-11-12 01:21:46,828 [INFO] Loading mystem\n",
      "2016-11-12 01:21:46,833 [INFO] Loaded mystem\n"
     ]
    }
   ],
   "source": [
    "lg.info(\"Loading mystem\")\n",
    "m = Mystem()\n",
    "lg.info(\"Loaded mystem\")"
   ]
  },
  {
   "cell_type": "markdown",
   "metadata": {},
   "source": [
    "## Вспомогательные функции"
   ]
  },
  {
   "cell_type": "code",
   "execution_count": 5,
   "metadata": {
    "collapsed": true
   },
   "outputs": [],
   "source": [
    "def parse_gr(gr):\n",
    "    options = re.search('\\(([^\\)]*)\\)', gr, re.IGNORECASE)\n",
    "\n",
    "    if options:\n",
    "        title = options.group(1)\n",
    "        for stuff in title.split('|'):\n",
    "            yield gr.replace(\"(\" + title + \")\", stuff)\n",
    "    else:\n",
    "        yield gr"
   ]
  },
  {
   "cell_type": "markdown",
   "metadata": {},
   "source": [
    "## Запись пар с их грамматической информацией"
   ]
  },
  {
   "cell_type": "markdown",
   "metadata": {},
   "source": [
    "Создаем множество кортежей типа  \n",
    "(грамматическое описание, начальная форма, слово)"
   ]
  },
  {
   "cell_type": "code",
   "execution_count": 6,
   "metadata": {
    "collapsed": false
   },
   "outputs": [
    {
     "name": "stderr",
     "output_type": "stream",
     "text": [
      "2016-11-12 01:21:50,319 [INFO] file opened\n",
      "2016-11-12 01:21:52,744 [INFO] 0 strings are processed\n",
      "2016-11-12 01:22:06,424 [INFO] 50000 strings are processed\n",
      "2016-11-12 01:22:19,978 [INFO] 100000 strings are processed\n",
      "2016-11-12 01:22:33,959 [INFO] 150000 strings are processed\n",
      "2016-11-12 01:22:48,448 [INFO] 200000 strings are processed\n",
      "2016-11-12 01:23:03,117 [INFO] 250000 strings are processed\n",
      "2016-11-12 01:23:16,956 [INFO] 300000 strings are processed\n",
      "2016-11-12 01:23:31,168 [INFO] 350000 strings are processed\n",
      "2016-11-12 01:23:45,441 [INFO] 400000 strings are processed\n",
      "2016-11-12 01:23:59,940 [INFO] 450000 strings are processed\n"
     ]
    }
   ],
   "source": [
    "lines = set([])\n",
    "\n",
    "with open(text_file, \"rt\") as input_file:\n",
    "    lg.info(\"file opened\")\n",
    "\n",
    "    i = 0\n",
    "    for line in input_file:\n",
    "        for w in m.analyze(line):\n",
    "            if i % 50000 == 0:\n",
    "                lg.info(\"{} strings are processed\".format(i))\n",
    "            i += 1\n",
    "            if 'analysis' in w:\n",
    "                for item in w['analysis']:\n",
    "                    for gramm_info in parse_gr(item['gr']):\n",
    "                        lines.add(u\"\\t\".join(\n",
    "                            [gramm_info, item['lex'], w['text'].lower()]) + u\"\\n\")"
   ]
  },
  {
   "cell_type": "markdown",
   "metadata": {},
   "source": [
    "Записываем их в файл pairs_with_grammar"
   ]
  },
  {
   "cell_type": "code",
   "execution_count": 7,
   "metadata": {
    "collapsed": false
   },
   "outputs": [],
   "source": [
    "with open(pairs_with_gr_file, \"wt\") as f:\n",
    "    for line in lines:\n",
    "        f.write(line)"
   ]
  },
  {
   "cell_type": "markdown",
   "metadata": {},
   "source": [
    "## Запись данных для обучения"
   ]
  },
  {
   "cell_type": "markdown",
   "metadata": {},
   "source": [
    "Читаем файл"
   ]
  },
  {
   "cell_type": "code",
   "execution_count": 8,
   "metadata": {
    "collapsed": false
   },
   "outputs": [
    {
     "name": "stderr",
     "output_type": "stream",
     "text": [
      "2016-11-12 01:24:10,433 [INFO] Pairs acquired\n"
     ]
    }
   ],
   "source": [
    "dict = {}\n",
    "n_trivial = 0\n",
    "for line in open(pairs_with_gr_file, \"rt\"):\n",
    "    if line.strip():\n",
    "        desc, normal, form = line.strip().split(\"\\t\")\n",
    "        if normal == form:\n",
    "            n_trivial += 1\n",
    "        if desc not in dict:\n",
    "            dict[desc] = []\n",
    "        dict[desc].append((normal, form))\n",
    "\n",
    "lg.info(\"Pairs acquired\")"
   ]
  },
  {
   "cell_type": "markdown",
   "metadata": {},
   "source": [
    "Ограничиваем группы с одинаковым gr "
   ]
  },
  {
   "cell_type": "code",
   "execution_count": 9,
   "metadata": {
    "collapsed": false
   },
   "outputs": [],
   "source": [
    "bound = 50\n",
    "\n",
    "for desc in dict:\n",
    "    if len(dict[desc]) > bound:\n",
    "        dict[desc] = list(sample(dict[desc], bound))"
   ]
  },
  {
   "cell_type": "markdown",
   "metadata": {},
   "source": [
    "И создаем декартово произведение пар (слово, нач. форма)"
   ]
  },
  {
   "cell_type": "code",
   "execution_count": 10,
   "metadata": {
    "collapsed": false
   },
   "outputs": [
    {
     "name": "stderr",
     "output_type": "stream",
     "text": [
      "2016-11-12 01:24:17,382 [INFO] Relations pairs acquired\n"
     ]
    }
   ],
   "source": [
    "writer = open(relations_pairs_file, \"w+\")\n",
    "for desc in dict:\n",
    "    for p0 in dict[desc]:\n",
    "        for p1 in dict[desc]:\n",
    "            if not p0 == p1:\n",
    "                writer.write(\"\\t\".join([p0[0], p0[1], p1[0], p1[1]]) + \"\\n\")\n",
    "\n",
    "writer.close()\n",
    "lg.info(\"Relations pairs acquired\")"
   ]
  },
  {
   "cell_type": "markdown",
   "metadata": {},
   "source": [
    "Прорежаем данные, если нужно (уменьшаем размер в factor раз)"
   ]
  },
  {
   "cell_type": "code",
   "execution_count": 11,
   "metadata": {
    "collapsed": false
   },
   "outputs": [],
   "source": [
    "factor = 1\n",
    "\n",
    "if factor != 1:\n",
    "    with open(relations_pairs_file, \"rt\") as input_:\n",
    "        with open(disperse_file, \"wt\") as output:\n",
    "            for line in input_:\n",
    "                if random() < (1.0 / factor):\n",
    "                    output.write(line)\n",
    "            lg.info(\"Use Disperse data\")"
   ]
  },
  {
   "cell_type": "markdown",
   "metadata": {},
   "source": [
    "Делим данные на данные для обучения и для тестирования (было в функции prepare_relations)"
   ]
  },
  {
   "cell_type": "code",
   "execution_count": 12,
   "metadata": {
    "collapsed": false
   },
   "outputs": [
    {
     "name": "stderr",
     "output_type": "stream",
     "text": [
      "2016-11-12 01:24:33,534 [INFO] Data acquired\n"
     ]
    }
   ],
   "source": [
    "splitting = 0.9\n",
    "\n",
    "n_train = 0\n",
    "n_test = 0\n",
    "with open(relations_pairs_file if factor == 1 else disperse_file, \"rt\") as data:\n",
    "    with open(train_file, \"wt\") as train:\n",
    "        with open(test_file, \"wt\") as test:\n",
    "            for line in data:\n",
    "                line = \",\".join(line.split(\"\\t\"))\n",
    "                if random() < splitting:\n",
    "                    train.write(line)\n",
    "                    n_train += 1\n",
    "                else:\n",
    "                    test.write(line) \n",
    "                    n_test += 1\n",
    "            lg.info(\"Data acquired\")"
   ]
  },
  {
   "cell_type": "markdown",
   "metadata": {},
   "source": [
    "## Aditional information"
   ]
  },
  {
   "cell_type": "code",
   "execution_count": 13,
   "metadata": {
    "collapsed": false
   },
   "outputs": [
    {
     "name": "stderr",
     "output_type": "stream",
     "text": [
      "2016-11-12 01:24:33,554 [INFO] Всего строк: 50741\n",
      "2016-11-12 01:24:33,560 [INFO] Всего полезных строк: 48056\n",
      "2016-11-12 01:24:33,562 [INFO] Из них строк, где слово == нач. форма: 9869 то есть 19%\n",
      "2016-11-12 01:24:33,565 [INFO] Групп с различным gr: 1706\n",
      "2016-11-12 01:24:33,568 [INFO] Размер максимальной группы: 50\n",
      "2016-11-12 01:24:33,572 [INFO] На выходе должно получиться: 623560 строк\n",
      "2016-11-12 01:24:33,574 [INFO] Всего получилось 623560 строк из них 561269 для train'a и 62291 для test'a\n"
     ]
    }
   ],
   "source": [
    "lg.info(\"Всего строк: {}\".format(len(lines)))\n",
    "lg.info(\"Всего полезных строк: {}\".format(sum(len(l) for l in dict)))\n",
    "lg.info(\"Из них строк, где слово == нач. форма: {} то есть {}%\".format(n_trivial, 100 * n_trivial // len(lines)))\n",
    "lg.info(\"Групп с различным gr: {}\".format(len(dict)))\n",
    "lg.info(\"Размер максимальной группы: {}\".format(max(len(l) for l in dict.values())))\n",
    "lg.info(\"На выходе должно получиться: {} строк\".format(sum(len(l) * (len(l) - 1) for l in dict.values()) // factor))\n",
    "lg.info(\"Всего получилось {} строк из них {} для train'a и {} для test'a\".format(n_test + n_train, n_train, n_test))"
   ]
  },
  {
   "cell_type": "code",
   "execution_count": 15,
   "metadata": {
    "collapsed": false
   },
   "outputs": [
    {
     "name": "stdout",
     "output_type": "stream",
     "text": [
      "Populating the interactive namespace from numpy and matplotlib\n"
     ]
    },
    {
     "name": "stderr",
     "output_type": "stream",
     "text": [
      "/home/pavel/anaconda3/envs/with_python_2/lib/python2.7/site-packages/IPython/core/magics/pylab.py:161: UserWarning: pylab import has clobbered these variables: ['f', 'normal', 'random', 'sample', 'test']\n",
      "`%matplotlib` prevents importing * from pylab and numpy\n",
      "  \"\\n`%matplotlib` prevents importing * from pylab and numpy\"\n"
     ]
    }
   ],
   "source": [
    "%pylab inline"
   ]
  },
  {
   "cell_type": "code",
   "execution_count": 16,
   "metadata": {
    "collapsed": false
   },
   "outputs": [
    {
     "data": {
      "text/plain": [
       "(array([ 322.,  140.,   90.,   57.,   27.,   19.,   32.,   13.,    7.,\n",
       "          20.,    6.,   10.,    7.,    3.,   11.,    8.,   10.,    4.,\n",
       "           5.,    6.,    7.,    3.,    2.,    9.,    6.,    7.,    1.,\n",
       "           4.,    0.,    2.,    4.,    1.,    0.,    4.,    2.,    4.,\n",
       "           2.,    1.,    0.,    1.,    3.,    1.,    1.,    3.,    2.,\n",
       "           1.,    1.,    2.,    4.,   67.]),\n",
       " array([  1.  ,   1.98,   2.96,   3.94,   4.92,   5.9 ,   6.88,   7.86,\n",
       "          8.84,   9.82,  10.8 ,  11.78,  12.76,  13.74,  14.72,  15.7 ,\n",
       "         16.68,  17.66,  18.64,  19.62,  20.6 ,  21.58,  22.56,  23.54,\n",
       "         24.52,  25.5 ,  26.48,  27.46,  28.44,  29.42,  30.4 ,  31.38,\n",
       "         32.36,  33.34,  34.32,  35.3 ,  36.28,  37.26,  38.24,  39.22,\n",
       "         40.2 ,  41.18,  42.16,  43.14,  44.12,  45.1 ,  46.08,  47.06,\n",
       "         48.04,  49.02,  50.  ]),\n",
       " <a list of 50 Patch objects>)"
      ]
     },
     "execution_count": 16,
     "metadata": {},
     "output_type": "execute_result"
    },
    {
     "data": {
      "image/png": "[encoded data removed]",
      "text/plain": [
       "<matplotlib.figure.Figure at 0x7f3fa9735550>"
      ]
     },
     "metadata": {},
     "output_type": "display_data"
    }
   ],
   "source": [
    "hist(np.array([len(value) for value in dict.values() if len(value) > 0]), 50)"
   ]
  },
  {
   "cell_type": "code",
   "execution_count": null,
   "metadata": {
    "collapsed": true
   },
   "outputs": [],
   "source": []
  }
 ],
 "metadata": {
  "anaconda-cloud": {},
  "kernelspec": {
   "display_name": "Python [with_python_2]",
   "language": "python",
   "name": "Python [with_python_2]"
  },
  "language_info": {
   "codemirror_mode": {
    "name": "ipython",
    "version": 2
   },
   "file_extension": ".py",
   "mimetype": "text/x-python",
   "name": "python",
   "nbconvert_exporter": "python",
   "pygments_lexer": "ipython2",
   "version": "2.7.12"
  }
 },
 "nbformat": 4,
 "nbformat_minor": 0
}
