{
 "cells": [
  {
   "cell_type": "code",
   "execution_count": null,
   "metadata": {
    "collapsed": false
   },
   "outputs": [],
   "source": [
    "from pymystem3 import Mystem\n",
    "from pprint import pprint\n",
    "import logging\n",
    "import re"
   ]
  },
  {
   "cell_type": "markdown",
   "metadata": {},
   "source": [
    "## Настройка логгера"
   ]
  },
  {
   "cell_type": "code",
   "execution_count": null,
   "metadata": {
    "collapsed": true
   },
   "outputs": [],
   "source": [
    "logging.basicConfig(filename='preparation_results.log',\n",
    "                    format='[%(asctime)s] [%(levelname)s] %(message)s',\n",
    "                    level=logging.DEBUG)\n",
    "\n",
    "lg = logging.getLogger(\"L\")\n",
    "lg.setLevel(logging.DEBUG)\n",
    "ch = logging.StreamHandler()\n",
    "ch.setLevel(logging.DEBUG)\n",
    "formatter = logging.Formatter(\"%(asctime)s [%(levelname)s] %(message)s\")\n",
    "ch.setFormatter(formatter)\n",
    "lg.addHandler(ch)"
   ]
  },
  {
   "cell_type": "markdown",
   "metadata": {},
   "source": [
    "## Загрузка стеммера"
   ]
  },
  {
   "cell_type": "code",
   "execution_count": null,
   "metadata": {
    "collapsed": false
   },
   "outputs": [],
   "source": [
    "lg.info(\"Loading mystem\")\n",
    "m = Mystem()\n",
    "lg.info(\"Loaded mystem\")"
   ]
  },
  {
   "cell_type": "markdown",
   "metadata": {},
   "source": [
    "## Вспомогательные функции"
   ]
  },
  {
   "cell_type": "code",
   "execution_count": null,
   "metadata": {
    "collapsed": true
   },
   "outputs": [],
   "source": [
    "def parse_gr(gr):\n",
    "    options = re.search('\\(([^\\)]*)\\)', gr, re.IGNORECASE)\n",
    "\n",
    "    if options:\n",
    "        title = options.group(1)\n",
    "        for stuff in title.split('|'):\n",
    "            yield gr.replace(\"(\" + title + \")\", stuff)\n",
    "    else:\n",
    "        yield gr"
   ]
  },
  {
   "cell_type": "markdown",
   "metadata": {},
   "source": [
    "## Запись пар с их грамматической информацией"
   ]
  },
  {
   "cell_type": "markdown",
   "metadata": {},
   "source": [
    "Создаем множество кортежей типа  \n",
    "(грамматическое описание, начальная форма, слово)"
   ]
  },
  {
   "cell_type": "code",
   "execution_count": null,
   "metadata": {
    "collapsed": false
   },
   "outputs": [],
   "source": [
    "lines = set([])\n",
    "\n",
    "with open(\"data/text.txt\", \"rt\") as input_file:\n",
    "    lg.info(\"file opened\")\n",
    "\n",
    "    # i = 0\n",
    "    for line in input_file:\n",
    "        # i += 1\n",
    "        # if i % 1000 == 0:\n",
    "        #     print(i)\n",
    "        \n",
    "        for w in m.analyze(line):\n",
    "            if 'analysis' in w:\n",
    "                for item in w['analysis']:\n",
    "                    for gramm_info in parse_gr(item['gr']):\n",
    "                        lines.add(\"\\t\".join(\n",
    "                            [gramm_info, item['lex'], w['text'].lower()]) + \"\\n\")\n",
    "                        # lines.add(\"\\t\".join(\n",
    "                        #     [gramm_info, item['lex'], w['text'].lower()]).encode(\"utf-8\") + \"\\n\")\n"
   ]
  },
  {
   "cell_type": "markdown",
   "metadata": {},
   "source": [
    "Записываем их в файл pairs_with_grammar"
   ]
  },
  {
   "cell_type": "code",
   "execution_count": null,
   "metadata": {
    "collapsed": true
   },
   "outputs": [],
   "source": [
    "with open(\"data/pairs_with_grammar.tsv\", \"w\") as f:\n",
    "    for line in lines:\n",
    "        f.write(line)"
   ]
  },
  {
   "cell_type": "markdown",
   "metadata": {},
   "source": [
    "## Запись данных для обучения"
   ]
  },
  {
   "cell_type": "markdown",
   "metadata": {},
   "source": [
    "Читаем файл"
   ]
  },
  {
   "cell_type": "code",
   "execution_count": null,
   "metadata": {
    "collapsed": false
   },
   "outputs": [],
   "source": [
    "dict = {}\n",
    "\n",
    "for line in open(\"data/pairs_with_grammar.tsv\", \"r+\"):\n",
    "    if line.strip():\n",
    "        desc, normal, form = line.strip().split(\"\\t\")\n",
    "        if desc not in dict:\n",
    "            dict[desc] = []\n",
    "        dict[desc].append((normal, form))\n",
    "\n",
    "logging.info(\"Pairs acquired\")"
   ]
  },
  {
   "cell_type": "markdown",
   "metadata": {},
   "source": [
    "И создаем декартово произведение пар (слово, нач. форма)"
   ]
  },
  {
   "cell_type": "code",
   "execution_count": null,
   "metadata": {
    "collapsed": false
   },
   "outputs": [],
   "source": [
    "writer = open(\"data/relations_pairs.tsv\", \"w+\")\n",
    "\n",
    "for desc in dict:\n",
    "    for p0 in dict[desc]:\n",
    "        for p1 in dict[desc]:\n",
    "            if not p0 == p1:\n",
    "                writer.write(\"\\t\".join([p0[0], p0[1], p1[0], p1[1]]) + \"\\n\")\n",
    "\n",
    "writer.close()\n",
    "lg.info(\"Relations pairs acquired\")"
   ]
  },
  {
   "cell_type": "code",
   "execution_count": null,
   "metadata": {
    "collapsed": true
   },
   "outputs": [],
   "source": []
  }
 ],
 "metadata": {
  "anaconda-cloud": {},
  "kernelspec": {
   "display_name": "Python [Root]",
   "language": "python",
   "name": "Python [Root]"
  },
  "language_info": {
   "codemirror_mode": {
    "name": "ipython",
    "version": 3
   },
   "file_extension": ".py",
   "mimetype": "text/x-python",
   "name": "python",
   "nbconvert_exporter": "python",
   "pygments_lexer": "ipython3",
   "version": "3.5.2"
  }
 },
 "nbformat": 4,
 "nbformat_minor": 0
}
