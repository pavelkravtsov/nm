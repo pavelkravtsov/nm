{
 "cells": [
  {
   "cell_type": "code",
   "execution_count": 1,
   "metadata": {
    "collapsed": true
   },
   "outputs": [],
   "source": [
    "# coding:utf-8\n",
    "import string\n",
    "import numpy as np\n",
    "from random import shuffle\n",
    "import math\n",
    "import codecs"
   ]
  },
  {
   "cell_type": "markdown",
   "metadata": {},
   "source": [
    "## Спецсимволы"
   ]
  },
  {
   "cell_type": "code",
   "execution_count": 11,
   "metadata": {
    "collapsed": true
   },
   "outputs": [],
   "source": [
    "# symbol we use to replace unknown symbols\n",
    "UNKNSYM = u'*'\n",
    "# symbol we use for padding\n",
    "NOSYM = u'_'"
   ]
  },
  {
   "cell_type": "markdown",
   "metadata": {},
   "source": [
    "## Кодирование слов в бинарные матрицы"
   ]
  },
  {
   "cell_type": "code",
   "execution_count": 12,
   "metadata": {
    "collapsed": true
   },
   "outputs": [],
   "source": [
    "def encode_data(x, maxlen, vocab, vocab_size, check):\n",
    "    \"\"\"\n",
    "    Iterate over the loaded data and create a matrix of size maxlen x vocabsize\n",
    "\n",
    "    This is then placed in a 3D matrix of size data_samples x maxlen x vocab_size.\n",
    "    Each character is encoded into a one-hot array. Chars not in the vocab\n",
    "    are encoded into an all zero vector.\n",
    "    \"\"\"\n",
    "\n",
    "    input_data = np.zeros((len(x), maxlen, vocab_size))\n",
    "\n",
    "    for dix, sent in enumerate(x):\n",
    "\n",
    "        counter = 0\n",
    "        sent_array = np.zeros((maxlen, vocab_size))\n",
    "\n",
    "        try:\n",
    "            chars = list(sent.lower())  # .replace(' ', ''))\n",
    "        except:\n",
    "            print(\"ERROR \" + str(dix) + \" \" + str(sent))\n",
    "            continue\n",
    "\n",
    "        counter = 0\n",
    "        for c in chars:\n",
    "            if counter >= maxlen:\n",
    "                break\n",
    "            else:\n",
    "                char_array = np.zeros(vocab_size, dtype=np.int)\n",
    "                if c in check:\n",
    "                    ix = vocab[c]\n",
    "                else:\n",
    "                    ix = vocab[UNKNSYM]\n",
    "                char_array[ix] = 1\n",
    "\n",
    "                sent_array[counter, :] = char_array\n",
    "                counter += 1\n",
    "\n",
    "        char_array = np.zeros(vocab_size, dtype=np.int)\n",
    "        char_array[vocab[NOSYM]] = 1\n",
    "        while counter < maxlen:\n",
    "            sent_array[counter, :] = char_array\n",
    "            counter += 1\n",
    "            \n",
    "        input_data[dix, :, :] = sent_array\n",
    "\n",
    "    return input_data"
   ]
  },
  {
   "cell_type": "markdown",
   "metadata": {},
   "source": [
    "## Декодирование слов в бинарные матрицы"
   ]
  },
  {
   "cell_type": "code",
   "execution_count": 13,
   "metadata": {
    "collapsed": true
   },
   "outputs": [],
   "source": [
    "def decode_data(matrix, reverse_vocab):\n",
    "    \"\"\"\n",
    "        data_samples x maxlen x vocab_size\n",
    "    \"\"\"\n",
    "    try:\n",
    "        return \"\".join(\n",
    "            [reverse_vocab[np.argmax(row)] for encoded_matrix in matrix for row in encoded_matrix])\n",
    "    except:\n",
    "        return \"ERROR\""
   ]
  },
  {
   "cell_type": "markdown",
   "metadata": {},
   "source": [
    "##  Словарь номеров символов и т. п."
   ]
  },
  {
   "cell_type": "code",
   "execution_count": 9,
   "metadata": {
    "collapsed": true
   },
   "outputs": [],
   "source": [
    "def create_vocab_set():\n",
    "    alphabet = (list(NOSYM + u\"йцукенгшщзхъёфывапролджэячсмитьбю-\" + UNKNSYM))\n",
    "    vocab_size = len(alphabet)\n",
    "    check = set(alphabet)\n",
    "\n",
    "    vocab = {}\n",
    "    reverse_vocab = {}\n",
    "\n",
    "    for ix, t in enumerate(alphabet):\n",
    "        vocab[t] = ix\n",
    "        reverse_vocab[ix] = t\n",
    "\n",
    "    return vocab, reverse_vocab, vocab_size, check"
   ]
  },
  {
   "cell_type": "markdown",
   "metadata": {},
   "source": [
    "## Генератор батчей из файла"
   ]
  },
  {
   "cell_type": "code",
   "execution_count": 3,
   "metadata": {
    "collapsed": false
   },
   "outputs": [],
   "source": [
    "def mini_batch_generator(filename, vocab, vocab_size, vocab_check, maxlen, batch_size):\n",
    "    with codecs.open(filename, \"rt\", encoding=\"utf-8\") as data:\n",
    "        run = True\n",
    "        while run:\n",
    "            x_sample = np.zeros((batch_size, 3), dtype=np.object)\n",
    "            y_sample = np.zeros((batch_size,),   dtype=np.object)\n",
    "            for i in range(batch_size):\n",
    "                line = data.readline()\n",
    "                if line:\n",
    "                    words = line.strip(\"\\n\").split(\",\")\n",
    "                    x_sample[i] = words[:3]\n",
    "                    y_sample[i] = words[3]\n",
    "                else:\n",
    "                    run = False\n",
    "                    break\n",
    "            if not run:\n",
    "                break\n",
    "\n",
    "            input_data0 = encode_data(x_sample[:, 0], maxlen, vocab, vocab_size, vocab_check)\n",
    "            input_data1 = encode_data(x_sample[:, 1], maxlen, vocab, vocab_size, vocab_check)\n",
    "            input_data2 = encode_data(x_sample[:, 2], maxlen, vocab, vocab_size, vocab_check)\n",
    "            \n",
    "            input_data = np.concatenate([input_data0, input_data1, input_data2], axis=2)\n",
    "            y_for_fitting = encode_data(y_sample, maxlen, vocab, vocab_size, vocab_check)\n",
    "\n",
    "            yield (input_data, y_for_fitting, x_sample, y_sample)\n"
   ]
  },
  {
   "cell_type": "code",
   "execution_count": 11,
   "metadata": {
    "collapsed": true
   },
   "outputs": [],
   "source": [
    "# def load_relations(train_file, test_file):\n",
    "#     train = pd.read_csv(train_file, header=None, encoding=\"utf-8\")\n",
    "#     train = train.dropna()\n",
    "#     x_train = np.array(train.ix[:, 0:2])\n",
    "#     y_train = np.array(train.ix[:, 3])\n",
    "#\n",
    "#     test = pd.read_csv(test_file, header=None, encoding=\"utf-8\")\n",
    "#     test = test.dropna()\n",
    "#     x_test = np.array(test.ix[:, 0:2])\n",
    "#     y_test = np.array(test.ix[:, 3])\n",
    "#\n",
    "#     return (x_train, y_train), (x_test, y_test)"
   ]
  },
  {
   "cell_type": "code",
   "execution_count": 14,
   "metadata": {
    "collapsed": true
   },
   "outputs": [],
   "source": [
    "# def shuffle_matrix(x, y):\n",
    "#     stacked = np.hstack((np.matrix(x).T, np.matrix(y).T))\n",
    "#     np.random.shuffle(stacked)\n",
    "#     xi = np.array(stacked[:, 0]).flatten()\n",
    "#     yi = np.array(stacked[:, 1]).flatten()\n",
    "#     return xi, yi"
   ]
  },
  {
   "cell_type": "code",
   "execution_count": null,
   "metadata": {
    "collapsed": true
   },
   "outputs": [],
   "source": [
    "# if __name__ == '__main__':\n",
    "#     prepare_relations(\"data/relations.pairs.test.tsv\")"
   ]
  }
 ],
 "metadata": {
  "anaconda-cloud": {},
  "kernelspec": {
   "display_name": "Python [with_python_2]",
   "language": "python",
   "name": "Python [with_python_2]"
  },
  "language_info": {
   "codemirror_mode": {
    "name": "ipython",
    "version": 2
   },
   "file_extension": ".py",
   "mimetype": "text/x-python",
   "name": "python",
   "nbconvert_exporter": "python",
   "pygments_lexer": "ipython2",
   "version": "2.7.12"
  }
 },
 "nbformat": 4,
 "nbformat_minor": 0
}
