{
 "cells": [
  {
   "cell_type": "code",
   "execution_count": 1,
   "metadata": {
    "collapsed": false
   },
   "outputs": [
    {
     "name": "stderr",
     "output_type": "stream",
     "text": [
      "Using Theano backend.\n"
     ]
    }
   ],
   "source": [
    "from keras.models import Sequential\n",
    "from keras.layers import Merge, LSTM, Dense\n",
    "import numpy as np"
   ]
  },
  {
   "cell_type": "code",
   "execution_count": 2,
   "metadata": {
    "collapsed": true
   },
   "outputs": [],
   "source": [
    "data_dim = 16\n",
    "timesteps = 8\n",
    "nb_classes = 10"
   ]
  },
  {
   "cell_type": "code",
   "execution_count": 3,
   "metadata": {
    "collapsed": true
   },
   "outputs": [],
   "source": [
    "encoder_a = Sequential()\n",
    "encoder_a.add(LSTM(32, input_shape=(timesteps, data_dim)))\n",
    "\n",
    "encoder_b = Sequential()\n",
    "encoder_b.add(LSTM(32, input_shape=(timesteps, data_dim)))\n",
    "\n",
    "decoder = Sequential()\n",
    "decoder.add(Merge([encoder_a, encoder_b], mode='concat'))\n",
    "decoder.add(Dense(32, activation='relu'))\n",
    "decoder.add(Dense(nb_classes, activation='softmax'))\n",
    "\n",
    "decoder.compile(loss='categorical_crossentropy',\n",
    "                optimizer='rmsprop',\n",
    "                metrics=['accuracy'])"
   ]
  },
  {
   "cell_type": "code",
   "execution_count": 4,
   "metadata": {
    "collapsed": false
   },
   "outputs": [
    {
     "name": "stdout",
     "output_type": "stream",
     "text": [
      "Train on 1000 samples, validate on 100 samples\n",
      "Epoch 1/5\n",
      "1000/1000 [==============================] - 0s - loss: 11.6482 - acc: 0.0920 - val_loss: 11.9598 - val_acc: 0.0500\n",
      "Epoch 2/5\n",
      "1000/1000 [==============================] - 0s - loss: 11.6091 - acc: 0.1110 - val_loss: 11.9601 - val_acc: 0.0600\n",
      "Epoch 3/5\n",
      "1000/1000 [==============================] - 0s - loss: 11.6041 - acc: 0.1050 - val_loss: 11.9508 - val_acc: 0.1300\n",
      "Epoch 4/5\n",
      "1000/1000 [==============================] - 1s - loss: 11.6022 - acc: 0.1010 - val_loss: 11.9501 - val_acc: 0.0600\n",
      "Epoch 5/5\n",
      "1000/1000 [==============================] - 1s - loss: 11.6019 - acc: 0.1280 - val_loss: 11.9528 - val_acc: 0.1000\n"
     ]
    },
    {
     "data": {
      "text/plain": [
       "<keras.callbacks.History at 0x7f223a1d3210>"
      ]
     },
     "execution_count": 4,
     "metadata": {},
     "output_type": "execute_result"
    }
   ],
   "source": [
    "# generate dummy training data\n",
    "x_train_a = np.random.random((1000, timesteps, data_dim))\n",
    "x_train_b = np.random.random((1000, timesteps, data_dim))\n",
    "y_train = np.random.random((1000, nb_classes))\n",
    "\n",
    "# generate dummy validation data\n",
    "x_val_a = np.random.random((100, timesteps, data_dim))\n",
    "x_val_b = np.random.random((100, timesteps, data_dim))\n",
    "y_val = np.random.random((100, nb_classes))\n",
    "\n",
    "decoder.fit([x_train_a, x_train_b], y_train,\n",
    "            batch_size=64, nb_epoch=5,\n",
    "            validation_data=([x_val_a, x_val_b], y_val))"
   ]
  },
  {
   "cell_type": "code",
   "execution_count": null,
   "metadata": {
    "collapsed": true
   },
   "outputs": [],
   "source": []
  }
 ],
 "metadata": {
  "kernelspec": {
   "display_name": "Python [with_python_2]",
   "language": "python",
   "name": "Python [with_python_2]"
  },
  "language_info": {
   "codemirror_mode": {
    "name": "ipython",
    "version": 2
   },
   "file_extension": ".py",
   "mimetype": "text/x-python",
   "name": "python",
   "nbconvert_exporter": "python",
   "pygments_lexer": "ipython2",
   "version": "2.7.12"
  }
 },
 "nbformat": 4,
 "nbformat_minor": 0
}
