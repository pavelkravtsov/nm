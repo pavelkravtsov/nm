{
 "cells": [
  {
   "cell_type": "code",
   "execution_count": 1,
   "metadata": {
    "collapsed": false
   },
   "outputs": [
    {
     "name": "stderr",
     "output_type": "stream",
     "text": [
      "Using Theano backend.\n"
     ]
    }
   ],
   "source": [
    "# coding:utf-8\n",
    "\n",
    "from __future__ import division\n",
    "from __future__ import print_function\n",
    "\n",
    "import datetime\n",
    "import logging\n",
    "\n",
    "import numpy as np\n",
    "\n",
    "import data_helpers\n",
    "import model_all_stacked"
   ]
  },
  {
   "cell_type": "markdown",
   "metadata": {},
   "source": [
    "### Настройка логгера"
   ]
  },
  {
   "cell_type": "code",
   "execution_count": 2,
   "metadata": {
    "collapsed": false
   },
   "outputs": [],
   "source": [
    "logging.basicConfig(filename='log\\all_results.log',\n",
    "                    format='[%(asctime)s] [%(levelname)s] %(message)s',\n",
    "                    level=logging.DEBUG)\n",
    "\n",
    "lg = logging.getLogger(\"L\")\n",
    "lg.setLevel(logging.DEBUG)\n",
    "ch = logging.StreamHandler()\n",
    "ch.setLevel(logging.DEBUG)\n",
    "formatter = logging.Formatter(\"%(asctime)s [%(levelname)s] %(message)s\")\n",
    "ch.setFormatter(formatter)\n",
    "lg.addHandler(ch)"
   ]
  },
  {
   "cell_type": "markdown",
   "metadata": {},
   "source": [
    "### Установка параметров"
   ]
  },
  {
   "cell_type": "code",
   "execution_count": 3,
   "metadata": {
    "collapsed": true
   },
   "outputs": [],
   "source": [
    "np.random.seed(0123)  # for reproducibility\n",
    "\n",
    "# set parameters:\n",
    "\n",
    "subset = None\n",
    "save = False\n",
    "model_name_path = 'params/model.json'\n",
    "model_weights_path = 'params/model_weights.h5'\n",
    "\n",
    "latent_dimension = 1000 #125\n",
    "\n",
    "maxlen = 25\n",
    "\n",
    "batch_size = 100\n",
    "test_batch_size = 20\n",
    "nb_epoch = 10\n",
    "SHOW_STEP = 10"
   ]
  },
  {
   "cell_type": "markdown",
   "metadata": {},
   "source": [
    "## Загрузка модели"
   ]
  },
  {
   "cell_type": "code",
   "execution_count": 4,
   "metadata": {
    "collapsed": false
   },
   "outputs": [
    {
     "name": "stderr",
     "output_type": "stream",
     "text": [
      "2016-10-29 13:10:38,869 [INFO] Loading data...\n",
      "2016-10-29 13:10:39,305 [INFO] Build model...\n"
     ]
    }
   ],
   "source": [
    "lg.info('Loading data...')\n",
    "\n",
    "(x_train, y_train), (x_test, y_test) = data_helpers.load_relations()\n",
    "vocab, reverse_vocab, vocab_size, check = data_helpers.create_vocab_set()\n",
    "\n",
    "lg.info('Build model...')\n",
    "\n",
    "model = model_all_stacked.construct_model(maxlen, vocab_size * 3, vocab_size, latent_dimension)\n",
    "# model = model_all_stacked.construct_simpliest_model(maxlen, vocab_size * 3, vocab_size, latent_dimension)\n"
   ]
  },
  {
   "cell_type": "code",
   "execution_count": null,
   "metadata": {
    "collapsed": false
   },
   "outputs": [
    {
     "name": "stderr",
     "output_type": "stream",
     "text": [
      "2016-10-29 13:10:49,676 [INFO] Fit model...\n",
      "2016-10-29 13:10:49,681 [INFO] -------- epoch 0 --------\n",
      "2016-10-29 13:11:14,747 [INFO] - TRAINING step 10 \t loss 3.35084657669\n"
     ]
    }
   ],
   "source": [
    "lg.info('Fit model...')\n",
    "initial = datetime.datetime.now()\n",
    "\n",
    "## warning: переиспользование переменных x_train, y_train\n",
    "xi, yi = x_train, y_train  # data_helpers.shuffle_matrix(xt, yt)\n",
    "xi_test, yi_test = x_test, y_test  # data_helpers.shuffle_matrix(x_test, y_test)\n",
    "\n",
    "for e in xrange(nb_epoch):\n",
    "    \n",
    "    if subset:\n",
    "        batches = data_helpers.mini_batch_generator(xi[:subset], yi[:subset],\n",
    "                                                    vocab, vocab_size, check, maxlen,\n",
    "                                                    batch_size=batch_size)\n",
    "    else:\n",
    "        batches = data_helpers.mini_batch_generator(xi, yi,\n",
    "                                                    vocab, vocab_size, check, maxlen,\n",
    "                                                    batch_size=batch_size)\n",
    "\n",
    "    test_batches = data_helpers.mini_batch_generator(xi_test, yi_test, vocab,\n",
    "                                                     vocab_size, check, maxlen,\n",
    "                                                     batch_size=test_batch_size)\n",
    "\n",
    "    loss = 0.0\n",
    "    step = 1\n",
    "    start = datetime.datetime.now()\n",
    "\n",
    "    lg.info('-------- epoch {} --------'.format(e))\n",
    "\n",
    "    for x_train, y_train, x_text_tr, y_text_tr in batches:\n",
    "\n",
    "        f = model.train_on_batch(x_train, y_train)\n",
    "        loss += f\n",
    "        loss_avg = loss / step\n",
    "\n",
    "        if step % SHOW_STEP == 0:\n",
    "            lg.info('- TRAINING step {} \\t loss {}'.format(step, loss_avg))\n",
    "        step += 1\n",
    "\n",
    "    test_loss = 0.0\n",
    "    test_step = 0\n",
    "\n",
    "    lg.info(\" -- TESTING NOW -- \")\n",
    "\n",
    "    for x_test_batch, y_test_batch, x_text, y_text in test_batches:\n",
    "        f_ev = model.test_on_batch(x_test_batch, y_test_batch)\n",
    "        test_loss += f_ev\n",
    "        test_loss_avg = test_loss / test_step\n",
    "        test_step += 1\n",
    "        \n",
    "        if test_step % SHOW_STEP == 0:\n",
    "            lg.info('- TESTING step {}\\tloss {}'.format(test_step, test_loss_avg))\n",
    "            predicted_seq = model.predict(np.array([x_test_batch[0]]))\n",
    "            lg.info(\n",
    "                'Shapes x {} y_true {} y_pred {}'.format(\n",
    "                    x_test_batch[0].shape,\n",
    "                    y_test_batch[0].shape,\n",
    "                    predicted_seq[0].shape))\n",
    "            lg.info(u'Input:       \\t[' + \"|\".join(map(lambda x:x[:maxlen], list(x_text[0]))) + \"] -> ? \")\n",
    "            lg.info(u'Expected:    \\t[' + y_text[0] + \"]\")\n",
    "            lg.info(u'Predicted: \\t[' + data_helpers.decode_data(predicted_seq, reverse_vocab) + \"]\")\n",
    "            lg.info('----------------------------------------------------------------')\n",
    "\n",
    "    stop = datetime.datetime.now()\n",
    "    e_elap = stop - start\n",
    "    t_elap = stop - initial\n",
    "    lg.info('Epoch {}. Loss: {}\\nEpoch time: {}. Total time: {}\\n'.format(e, test_loss, e_elap, t_elap))\n",
    "\n",
    "    # if save:\n",
    "    #     print('Saving model params...')\n",
    "    #     json_string = model.to_json()\n",
    "    #     with open(model_name_path, 'w') as f:\n",
    "    #         json.dump(json_string, f)\n",
    "    #\n",
    "    #     model.save_weights(model_weights_path)"
   ]
  },
  {
   "cell_type": "code",
   "execution_count": null,
   "metadata": {
    "collapsed": true
   },
   "outputs": [],
   "source": []
  }
 ],
 "metadata": {
  "anaconda-cloud": {},
  "kernelspec": {
   "display_name": "Python [with_python_2]",
   "language": "python",
   "name": "Python [with_python_2]"
  },
  "language_info": {
   "codemirror_mode": {
    "name": "ipython",
    "version": 2
   },
   "file_extension": ".py",
   "mimetype": "text/x-python",
   "name": "python",
   "nbconvert_exporter": "python",
   "pygments_lexer": "ipython2",
   "version": "2.7.12"
  }
 },
 "nbformat": 4,
 "nbformat_minor": 0
}
